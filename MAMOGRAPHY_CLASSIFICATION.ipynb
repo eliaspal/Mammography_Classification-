{
  "nbformat": 4,
  "nbformat_minor": 0,
  "metadata": {
    "colab": {
      "provenance": [],
      "toc_visible": true
    },
    "kernelspec": {
      "name": "python3",
      "display_name": "Python 3"
    },
    "language_info": {
      "name": "python"
    }
  },
  "cells": [
    {
      "cell_type": "code",
      "execution_count": 1,
      "metadata": {
        "id": "npIjobo3IXq2",
        "colab": {
          "base_uri": "https://localhost:8080/"
        },
        "outputId": "ca019406-e0ca-469e-b2b2-a63546666420"
      },
      "outputs": [
        {
          "output_type": "stream",
          "name": "stdout",
          "text": [
            "Requirement already satisfied: requests in /usr/local/lib/python3.11/dist-packages (2.32.3)\n",
            "Requirement already satisfied: pandas in /usr/local/lib/python3.11/dist-packages (2.2.2)\n",
            "Collecting pydicom\n",
            "  Downloading pydicom-3.0.1-py3-none-any.whl.metadata (9.4 kB)\n",
            "Requirement already satisfied: charset-normalizer<4,>=2 in /usr/local/lib/python3.11/dist-packages (from requests) (3.4.1)\n",
            "Requirement already satisfied: idna<4,>=2.5 in /usr/local/lib/python3.11/dist-packages (from requests) (3.10)\n",
            "Requirement already satisfied: urllib3<3,>=1.21.1 in /usr/local/lib/python3.11/dist-packages (from requests) (2.3.0)\n",
            "Requirement already satisfied: certifi>=2017.4.17 in /usr/local/lib/python3.11/dist-packages (from requests) (2025.1.31)\n",
            "Requirement already satisfied: numpy>=1.23.2 in /usr/local/lib/python3.11/dist-packages (from pandas) (2.0.2)\n",
            "Requirement already satisfied: python-dateutil>=2.8.2 in /usr/local/lib/python3.11/dist-packages (from pandas) (2.8.2)\n",
            "Requirement already satisfied: pytz>=2020.1 in /usr/local/lib/python3.11/dist-packages (from pandas) (2025.1)\n",
            "Requirement already satisfied: tzdata>=2022.7 in /usr/local/lib/python3.11/dist-packages (from pandas) (2025.1)\n",
            "Requirement already satisfied: six>=1.5 in /usr/local/lib/python3.11/dist-packages (from python-dateutil>=2.8.2->pandas) (1.17.0)\n",
            "Downloading pydicom-3.0.1-py3-none-any.whl (2.4 MB)\n",
            "\u001b[2K   \u001b[90m━━━━━━━━━━━━━━━━━━━━━━━━━━━━━━━━━━━━━━━━\u001b[0m \u001b[32m2.4/2.4 MB\u001b[0m \u001b[31m20.5 MB/s\u001b[0m eta \u001b[36m0:00:00\u001b[0m\n",
            "\u001b[?25hInstalling collected packages: pydicom\n",
            "Successfully installed pydicom-3.0.1\n"
          ]
        }
      ],
      "source": [
        "!pip install requests pandas pydicom"
      ]
    },
    {
      "cell_type": "code",
      "source": [
        "import requests\n",
        "import pandas as pd\n",
        "import json"
      ],
      "metadata": {
        "id": "hADpJevJIbPw"
      },
      "execution_count": 2,
      "outputs": []
    },
    {
      "cell_type": "code",
      "source": [
        "url = \"https://services.cancerimagingarchive.net/services/v4/TCIA/query/getCollectionValues\"\n",
        "response = requests.get(url)\n",
        "\n",
        "if response.status_code == 200:\n",
        "    collections = response.json()\n",
        "    df_collections = pd.DataFrame(collections)\n",
        "    print(df_collections)\n",
        "else:\n",
        "    print(\"Error al acceder a la API:\", response.status_code)"
      ],
      "metadata": {
        "id": "iqqgxAAFIig7",
        "colab": {
          "base_uri": "https://localhost:8080/"
        },
        "outputId": "fa87c36f-8f4a-411c-c577-3672df9ea792"
      },
      "execution_count": 3,
      "outputs": [
        {
          "output_type": "stream",
          "name": "stdout",
          "text": [
            "                      Collection\n",
            "0                        4D-Lung\n",
            "1               ACRIN-FLT-Breast\n",
            "2            ACRIN-NSCLC-FDG-PET\n",
            "3                         APOLLO\n",
            "4                 Anti-PD-1_Lung\n",
            "..                           ...\n",
            "144                     CMB-BRCA\n",
            "145        MIDI-B-Synthetic-Test\n",
            "146  MIDI-B-Synthetic-Validation\n",
            "147          MIDI-B-Curated-Test\n",
            "148    MIDI-B-Curated-Validation\n",
            "\n",
            "[149 rows x 1 columns]\n"
          ]
        }
      ]
    },
    {
      "cell_type": "code",
      "source": [
        "# URL para obtener los estudios\n",
        "studies_url = \"https://services.cancerimagingarchive.net/services/v4/TCIA/query/getPatientStudy\"\n",
        "\n",
        "# Parámetros de la solicitud\n",
        "params = {\n",
        "    \"Collection\": \"CMMD\"\n",
        "}\n",
        "\n",
        "# Solicitud para obtener los estudios\n",
        "response = requests.get(studies_url, params=params)\n",
        "\n",
        "# Mostrar los estudios\n",
        "if response.status_code == 200:\n",
        "    studies = response.json()\n",
        "    print(pd.DataFrame(studies))\n",
        "else:\n",
        "    print(\"Error al obtener los estudios:\", response.status_code)"
      ],
      "metadata": {
        "id": "3LRrr7gVOTKb",
        "colab": {
          "base_uri": "https://localhost:8080/"
        },
        "outputId": "332fa015-873f-4476-a628-a951c701015a"
      },
      "execution_count": 4,
      "outputs": [
        {
          "output_type": "stream",
          "name": "stdout",
          "text": [
            "     Collection PatientID PatientName PatientSex  \\\n",
            "0          CMMD   D1-0860     D1-0860          F   \n",
            "1          CMMD   D2-0140     D2-0140          F   \n",
            "2          CMMD   D2-0205     D2-0205          F   \n",
            "3          CMMD   D2-0070     D2-0070          F   \n",
            "4          CMMD   D1-0577     D1-0577          F   \n",
            "...         ...       ...         ...        ...   \n",
            "1770       CMMD   D1-1713     D1-1713          F   \n",
            "1771       CMMD   D1-0157     D1-0157          F   \n",
            "1772       CMMD   D1-1057     D1-1057          F   \n",
            "1773       CMMD   D1-0737     D1-0737          F   \n",
            "1774       CMMD   D1-1696     D1-1696          F   \n",
            "\n",
            "                                       StudyInstanceUID   StudyDate  \\\n",
            "0     1.3.6.1.4.1.14519.5.2.1.1239.1759.339893805217...  2010-07-18   \n",
            "1     1.3.6.1.4.1.14519.5.2.1.1239.1759.598888059044...  2010-07-18   \n",
            "2     1.3.6.1.4.1.14519.5.2.1.1239.1759.101522599910...  2010-07-18   \n",
            "3     1.3.6.1.4.1.14519.5.2.1.1239.1759.305656210889...  2011-07-18   \n",
            "4     1.3.6.1.4.1.14519.5.2.1.1239.1759.192477539144...  2011-07-18   \n",
            "...                                                 ...         ...   \n",
            "1770  1.3.6.1.4.1.14519.5.2.1.1239.1759.734499888867...  2011-07-18   \n",
            "1771  1.3.6.1.4.1.14519.5.2.1.1239.1759.328014460422...  2011-07-18   \n",
            "1772  1.3.6.1.4.1.14519.5.2.1.1239.1759.632558583087...  2011-07-18   \n",
            "1773  1.3.6.1.4.1.14519.5.2.1.1239.1759.243280480014...  2010-07-18   \n",
            "1774  1.3.6.1.4.1.14519.5.2.1.1239.1759.324723954941...  2011-07-18   \n",
            "\n",
            "     PatientAge  SeriesCount  \n",
            "0          040Y            1  \n",
            "1          058Y            1  \n",
            "2          060Y            1  \n",
            "3          040Y            1  \n",
            "4          064Y            1  \n",
            "...         ...          ...  \n",
            "1770       042Y            1  \n",
            "1771       064Y            1  \n",
            "1772       040Y            1  \n",
            "1773       035Y            1  \n",
            "1774       075Y            1  \n",
            "\n",
            "[1775 rows x 8 columns]\n"
          ]
        }
      ]
    },
    {
      "cell_type": "code",
      "source": [
        "from google.colab import drive\n",
        "drive.mount('/content/drive')"
      ],
      "metadata": {
        "id": "ACxV--_dPqS3",
        "colab": {
          "base_uri": "https://localhost:8080/"
        },
        "outputId": "756d275a-5826-4333-ceee-3d2469f406fd"
      },
      "execution_count": 5,
      "outputs": [
        {
          "output_type": "stream",
          "name": "stdout",
          "text": [
            "Mounted at /content/drive\n"
          ]
        }
      ]
    },
    {
      "cell_type": "code",
      "source": [
        "%ls /content/drive/MyDrive/Colab_Notebooks/TFM/CMMD.zip"
      ],
      "metadata": {
        "id": "Dbt8TpidP4Q0",
        "colab": {
          "base_uri": "https://localhost:8080/"
        },
        "outputId": "e2ccdcb5-13b9-4edf-89b5-e36809b26f69"
      },
      "execution_count": 6,
      "outputs": [
        {
          "output_type": "stream",
          "name": "stdout",
          "text": [
            "/content/drive/MyDrive/Colab_Notebooks/TFM/CMMD.zip\n"
          ]
        }
      ]
    },
    {
      "cell_type": "code",
      "source": [
        "!cp /content/drive/MyDrive/Colab_Notebooks/TFM/CMMD.zip /content/CMMD.zip\n"
      ],
      "metadata": {
        "id": "lV__5kuoQlWd"
      },
      "execution_count": 7,
      "outputs": []
    },
    {
      "cell_type": "code",
      "source": [
        "!unzip -q /content/CMMD.zip -d /content/CMMD\n"
      ],
      "metadata": {
        "id": "RlA571jpQmTE"
      },
      "execution_count": 8,
      "outputs": []
    },
    {
      "cell_type": "code",
      "source": [
        "!find /content/CMMD -type f | wc -l\n"
      ],
      "metadata": {
        "id": "7WVoNnnSQpYD",
        "colab": {
          "base_uri": "https://localhost:8080/"
        },
        "outputId": "9f3cb5e6-781e-4315-fb9c-997336da0f8a"
      },
      "execution_count": 9,
      "outputs": [
        {
          "output_type": "stream",
          "name": "stdout",
          "text": [
            "5203\n"
          ]
        }
      ]
    },
    {
      "cell_type": "code",
      "source": [
        "# Cargar el clinical dataset\n",
        "import pandas as pd\n",
        "\n",
        "# Cargar el archivo Excel\n",
        "density_df = pd.read_excel(\"/content/drive/MyDrive/Colab_Notebooks/TFM/density.xlsx\")\n",
        "\n",
        "lesion_df = pd.read_excel(\n",
        "    \"/content/drive/MyDrive/Colab_Notebooks/TFM/density.xlsx\")"
      ],
      "metadata": {
        "id": "sTqZcs_Hh1m-"
      },
      "execution_count": 10,
      "outputs": []
    },
    {
      "cell_type": "code",
      "source": [
        "import pandas as pd\n",
        "import pydicom\n",
        "import os\n",
        "\n",
        "\n",
        "# Directorio donde están las imágenes\n",
        "dicom_dir = \"/content/CMMD\"\n",
        "\n",
        "# Recoger los PatientID de las imágenes\n",
        "image_data = []\n",
        "for root, _, files in os.walk(dicom_dir):\n",
        "    for file in files:\n",
        "        if file.endswith(\".dcm\"):\n",
        "            file_path = os.path.join(root, file)\n",
        "            dicom_data = pydicom.dcmread(file_path)\n",
        "            image_data.append({\n",
        "                \"ID\": dicom_data.PatientID,\n",
        "                \"file_path\": file_path\n",
        "            })\n",
        "\n",
        "# Crear un DataFrame con las imágenes\n",
        "df_images = pd.DataFrame(image_data)\n",
        "\n",
        "# Unir los datos clínicos con los datos de imagen\n",
        "merged_data = pd.merge(df_images, density_df, on='ID', how='inner')\n",
        "\n",
        "# Mostrar las primeras filas del conjunto de datos combinado\n",
        "print(merged_data.head())"
      ],
      "metadata": {
        "id": "i3RXH9OFcSvn",
        "colab": {
          "base_uri": "https://localhost:8080/"
        },
        "outputId": "d1bbb353-3da4-46cd-f349-e0816d90ae9d"
      },
      "execution_count": 13,
      "outputs": [
        {
          "output_type": "stream",
          "name": "stdout",
          "text": [
            "        ID                                          file_path LeftRight   Age  \\\n",
            "0  D2-0502  /content/CMMD/CMMD/D2-0502/07-18-2010-NA-NA-29...         L  83.0   \n",
            "1  D2-0502  /content/CMMD/CMMD/D2-0502/07-18-2010-NA-NA-29...         R   NaN   \n",
            "2  D2-0502  /content/CMMD/CMMD/D2-0502/07-18-2010-NA-NA-29...         L  83.0   \n",
            "3  D2-0502  /content/CMMD/CMMD/D2-0502/07-18-2010-NA-NA-29...         R   NaN   \n",
            "4  D2-0502  /content/CMMD/CMMD/D2-0502/07-18-2010-NA-NA-29...         L  83.0   \n",
            "\n",
            "  classification Unnamed: 4       Breast density Mass  Unnamed: 7  Unnamed: 8  \\\n",
            "0      Malignant        NaN  heterogeneous dense    U  round/oval  Spiculated   \n",
            "1         Normal        NaN  heterogeneous dense  NaN         NaN         NaN   \n",
            "2      Malignant        NaN  heterogeneous dense    U  round/oval  Spiculated   \n",
            "3         Normal        NaN  heterogeneous dense  NaN         NaN         NaN   \n",
            "4      Malignant        NaN  heterogeneous dense    U  round/oval  Spiculated   \n",
            "\n",
            "   ... Mass - Additional Lesion Unnamed: 24 Unnamed: 25 Unnamed: 26  \\\n",
            "0  ...                      NaN         NaN         NaN         NaN   \n",
            "1  ...                      NaN         NaN         NaN         NaN   \n",
            "2  ...                      NaN         NaN         NaN         NaN   \n",
            "3  ...                      NaN         NaN         NaN         NaN   \n",
            "4  ...                      NaN         NaN         NaN         NaN   \n",
            "\n",
            "  Unnamed: 27 Unnamed: 28 Calcification - Additional Lesion Unnamed: 30  \\\n",
            "0         NaN         NaN                               NaN         NaN   \n",
            "1         NaN         NaN                               NaN         NaN   \n",
            "2         NaN         NaN                               NaN         NaN   \n",
            "3         NaN         NaN                               NaN         NaN   \n",
            "4         NaN         NaN                               NaN         NaN   \n",
            "\n",
            "  Unnamed: 31 Unnamed: 32  \n",
            "0         NaN         NaN  \n",
            "1         NaN         NaN  \n",
            "2         NaN         NaN  \n",
            "3         NaN         NaN  \n",
            "4         NaN         NaN  \n",
            "\n",
            "[5 rows x 34 columns]\n"
          ]
        }
      ]
    },
    {
      "cell_type": "code",
      "source": [
        "# Filtrar las filas que tengan clasificación válida\n",
        "filtered_data = merged_data[merged_data['classification'].isin(['Benign', 'Malignant'])]\n",
        "print(filtered_data.head())\n"
      ],
      "metadata": {
        "id": "NvS7zGTOpXXD",
        "colab": {
          "base_uri": "https://localhost:8080/"
        },
        "outputId": "dde7233b-b307-4fc8-88b1-5d08fe047095"
      },
      "execution_count": 14,
      "outputs": [
        {
          "output_type": "stream",
          "name": "stdout",
          "text": [
            "        ID                                          file_path LeftRight   Age  \\\n",
            "0  D2-0502  /content/CMMD/CMMD/D2-0502/07-18-2010-NA-NA-29...         L  83.0   \n",
            "2  D2-0502  /content/CMMD/CMMD/D2-0502/07-18-2010-NA-NA-29...         L  83.0   \n",
            "4  D2-0502  /content/CMMD/CMMD/D2-0502/07-18-2010-NA-NA-29...         L  83.0   \n",
            "6  D2-0502  /content/CMMD/CMMD/D2-0502/07-18-2010-NA-NA-29...         L  83.0   \n",
            "8  D2-0575  /content/CMMD/CMMD/D2-0575/07-18-2011-NA-NA-11...         L  56.0   \n",
            "\n",
            "  classification Unnamed: 4       Breast density Mass  Unnamed: 7  Unnamed: 8  \\\n",
            "0      Malignant        NaN  heterogeneous dense    U  round/oval  Spiculated   \n",
            "2      Malignant        NaN  heterogeneous dense    U  round/oval  Spiculated   \n",
            "4      Malignant        NaN  heterogeneous dense    U  round/oval  Spiculated   \n",
            "6      Malignant        NaN  heterogeneous dense    U  round/oval  Spiculated   \n",
            "8      Malignant        NaN  heterogeneous dense  M-L   irregular  Indistinct   \n",
            "\n",
            "   ... Mass - Additional Lesion Unnamed: 24 Unnamed: 25 Unnamed: 26  \\\n",
            "0  ...                      NaN         NaN         NaN         NaN   \n",
            "2  ...                      NaN         NaN         NaN         NaN   \n",
            "4  ...                      NaN         NaN         NaN         NaN   \n",
            "6  ...                      NaN         NaN         NaN         NaN   \n",
            "8  ...                      NaN         NaN         NaN         NaN   \n",
            "\n",
            "  Unnamed: 27 Unnamed: 28 Calcification - Additional Lesion Unnamed: 30  \\\n",
            "0         NaN         NaN                               NaN         NaN   \n",
            "2         NaN         NaN                               NaN         NaN   \n",
            "4         NaN         NaN                               NaN         NaN   \n",
            "6         NaN         NaN                               NaN         NaN   \n",
            "8         NaN         NaN                               NaN         NaN   \n",
            "\n",
            "  Unnamed: 31 Unnamed: 32  \n",
            "0         NaN         NaN  \n",
            "2         NaN         NaN  \n",
            "4         NaN         NaN  \n",
            "6         NaN         NaN  \n",
            "8         NaN         NaN  \n",
            "\n",
            "[5 rows x 34 columns]\n"
          ]
        }
      ]
    },
    {
      "cell_type": "code",
      "source": [
        "merged_data.shape"
      ],
      "metadata": {
        "id": "8WEjJRJxtOGi",
        "colab": {
          "base_uri": "https://localhost:8080/"
        },
        "outputId": "d3e77ef2-2df4-4749-8136-ac6be46b1e2d"
      },
      "execution_count": 15,
      "outputs": [
        {
          "output_type": "execute_result",
          "data": {
            "text/plain": [
              "(8506, 34)"
            ]
          },
          "metadata": {},
          "execution_count": 15
        }
      ]
    },
    {
      "cell_type": "code",
      "source": [
        "import numpy as np\n",
        "import tensorflow as tf\n",
        "from tensorflow.keras.preprocessing.image import img_to_array\n",
        "\n",
        "# Función para preprocesar imágenes\n",
        "def preprocess_image(file_path):\n",
        "    dicom_data = pydicom.dcmread(file_path)\n",
        "    image = dicom_data.pixel_array.astype(np.float32)\n",
        "    image = image / np.max(image)  # Normalización entre 0 y 1\n",
        "    image = img_to_array(image)\n",
        "    image = tf.image.resize(image, [256, 256])  # Redimensionar a 256x256\n",
        "    return image\n",
        "\n",
        "# Aplicar la función a las imágenes del dataset filtrado\n",
        "filtered_data['processed_image'] = filtered_data['file_path'].apply(preprocess_image)\n"
      ],
      "metadata": {
        "id": "5QNEmmG-p14d",
        "colab": {
          "base_uri": "https://localhost:8080/"
        },
        "outputId": "4fcc4302-3355-41bc-d920-621cccf050dc"
      },
      "execution_count": 16,
      "outputs": [
        {
          "output_type": "stream",
          "name": "stderr",
          "text": [
            "<ipython-input-16-e971740aa646>:15: SettingWithCopyWarning: \n",
            "A value is trying to be set on a copy of a slice from a DataFrame.\n",
            "Try using .loc[row_indexer,col_indexer] = value instead\n",
            "\n",
            "See the caveats in the documentation: https://pandas.pydata.org/pandas-docs/stable/user_guide/indexing.html#returning-a-view-versus-a-copy\n",
            "  filtered_data['processed_image'] = filtered_data['file_path'].apply(preprocess_image)\n"
          ]
        }
      ]
    },
    {
      "cell_type": "code",
      "source": [
        "from sklearn.model_selection import train_test_split\n",
        "\n",
        "# Convertir las imágenes y etiquetas a arrays de NumPy\n",
        "X = np.array(filtered_data['processed_image'].tolist())\n",
        "y = (filtered_data['classification'] == 'Malignant').astype(int)  # 1: Malignant, 0: Benign\n",
        "\n",
        "# Dividir los datos en entrenamiento y validación\n",
        "X_train, X_val, y_train, y_val = train_test_split(X, y, test_size=0.2, random_state=42)\n"
      ],
      "metadata": {
        "id": "BdG6Yj6cutF9"
      },
      "execution_count": 17,
      "outputs": []
    },
    {
      "cell_type": "code",
      "source": [
        "from tensorflow.keras import layers, models\n",
        "\n",
        "# Definir el modelo\n",
        "model = models.Sequential([\n",
        "    layers.InputLayer(input_shape=(256, 256, 1)),\n",
        "    layers.Conv2D(32, (3, 3), activation='relu'),\n",
        "    layers.MaxPooling2D((2, 2)),\n",
        "    layers.Conv2D(64, (3, 3), activation='relu'),\n",
        "    layers.MaxPooling2D((2, 2)),\n",
        "    layers.Flatten(),\n",
        "    layers.Dense(128, activation='relu'),\n",
        "    layers.Dense(1, activation='sigmoid')\n",
        "])\n",
        "\n",
        "# Compilar el modelo\n",
        "model.compile(optimizer='adam', loss='binary_crossentropy', metrics=['accuracy'])\n",
        "\n",
        "# Entrenar el modelo\n",
        "model.fit(X_train, y_train, epochs=5, validation_data=(X_val, y_val), batch_size=16)\n"
      ],
      "metadata": {
        "id": "xrIKDwZfuxqz",
        "colab": {
          "base_uri": "https://localhost:8080/"
        },
        "outputId": "d28953da-9d4b-4c71-d205-ab1b693ae827"
      },
      "execution_count": 18,
      "outputs": [
        {
          "output_type": "stream",
          "name": "stderr",
          "text": [
            "/usr/local/lib/python3.11/dist-packages/keras/src/layers/core/input_layer.py:27: UserWarning: Argument `input_shape` is deprecated. Use `shape` instead.\n",
            "  warnings.warn(\n"
          ]
        },
        {
          "output_type": "stream",
          "name": "stdout",
          "text": [
            "Epoch 1/5\n",
            "\u001b[1m213/213\u001b[0m \u001b[32m━━━━━━━━━━━━━━━━━━━━\u001b[0m\u001b[37m\u001b[0m \u001b[1m522s\u001b[0m 2s/step - accuracy: 0.8486 - loss: 0.4573 - val_accuracy: 0.8834 - val_loss: 0.3759\n",
            "Epoch 2/5\n",
            "\u001b[1m213/213\u001b[0m \u001b[32m━━━━━━━━━━━━━━━━━━━━\u001b[0m\u001b[37m\u001b[0m \u001b[1m554s\u001b[0m 2s/step - accuracy: 0.8605 - loss: 0.3944 - val_accuracy: 0.8834 - val_loss: 0.3516\n",
            "Epoch 3/5\n",
            "\u001b[1m213/213\u001b[0m \u001b[32m━━━━━━━━━━━━━━━━━━━━\u001b[0m\u001b[37m\u001b[0m \u001b[1m562s\u001b[0m 2s/step - accuracy: 0.8635 - loss: 0.3558 - val_accuracy: 0.8834 - val_loss: 0.3742\n",
            "Epoch 4/5\n",
            "\u001b[1m213/213\u001b[0m \u001b[32m━━━━━━━━━━━━━━━━━━━━\u001b[0m\u001b[37m\u001b[0m \u001b[1m565s\u001b[0m 2s/step - accuracy: 0.8760 - loss: 0.2673 - val_accuracy: 0.8681 - val_loss: 0.4090\n",
            "Epoch 5/5\n",
            "\u001b[1m213/213\u001b[0m \u001b[32m━━━━━━━━━━━━━━━━━━━━\u001b[0m\u001b[37m\u001b[0m \u001b[1m558s\u001b[0m 2s/step - accuracy: 0.9138 - loss: 0.1683 - val_accuracy: 0.8693 - val_loss: 0.4330\n"
          ]
        },
        {
          "output_type": "execute_result",
          "data": {
            "text/plain": [
              "<keras.src.callbacks.history.History at 0x7b0cd17d2550>"
            ]
          },
          "metadata": {},
          "execution_count": 18
        }
      ]
    },
    {
      "cell_type": "code",
      "source": [
        "# Evaluar el modelo\n",
        "val_loss, val_acc = model.evaluate(X_val, y_val)\n",
        "print(f\"Precisión en validación: {val_acc * 100:.2f}%\")\n"
      ],
      "metadata": {
        "id": "vq-0QNvCu1on",
        "colab": {
          "base_uri": "https://localhost:8080/"
        },
        "outputId": "b949d71f-0553-42d5-f7bc-68ddb6de4d62"
      },
      "execution_count": 19,
      "outputs": [
        {
          "output_type": "stream",
          "name": "stdout",
          "text": [
            "\u001b[1m27/27\u001b[0m \u001b[32m━━━━━━━━━━━━━━━━━━━━\u001b[0m\u001b[37m\u001b[0m \u001b[1m26s\u001b[0m 958ms/step - accuracy: 0.8738 - loss: 0.4494\n",
            "Precisión en validación: 86.93%\n"
          ]
        }
      ]
    },
    {
      "cell_type": "code",
      "source": [
        "from sklearn.metrics import confusion_matrix\n",
        "\n",
        "# Calcular la matriz de confusión\n",
        "tn, fp, fn, tp = confusion_matrix(y_val, y_pred_bin).ravel()\n",
        "\n",
        "print(f\"True Positives (TP): {tp}\")\n",
        "print(f\"False Positives (FP): {fp}\")\n",
        "print(f\"True Negatives (TN): {tn}\")\n",
        "print(f\"False Negatives (FN): {fn}\")\n"
      ],
      "metadata": {
        "colab": {
          "base_uri": "https://localhost:8080/"
        },
        "id": "Ep-6fo54jaJa",
        "outputId": "f5f46e55-628a-4e18-b828-5ea48b5fc593"
      },
      "execution_count": 21,
      "outputs": [
        {
          "output_type": "stream",
          "name": "stdout",
          "text": [
            "True Positives (TP): 721\n",
            "False Positives (FP): 82\n",
            "True Negatives (TN): 17\n",
            "False Negatives (FN): 29\n"
          ]
        }
      ]
    }
  ]
}